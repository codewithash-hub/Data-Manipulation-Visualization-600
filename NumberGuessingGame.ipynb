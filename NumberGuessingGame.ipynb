{
 "cells": [
  {
   "cell_type": "code",
   "execution_count": 1,
   "metadata": {},
   "outputs": [],
   "source": [
    "import random"
   ]
  },
  {
   "cell_type": "code",
   "execution_count": 11,
   "metadata": {},
   "outputs": [
    {
     "name": "stdout",
     "output_type": "stream",
     "text": [
      "2 was the wrong answer.\n",
      "Your guess is lower than the number. Guess again!\n",
      "4 was the wrong answer.\n",
      "Your guess is lower than the number. Guess again!\n"
     ]
    }
   ],
   "source": [
    "guessed_number = random.randint(0, 5)\n",
    "guess = int(input(\"Guess the NUMBER!: \"))\n",
    "\n",
    "while(guess != guessed_number):\n",
    "    if guess == guessed_number:\n",
    "        print(guess, \"was the right answer.\")\n",
    "    else:\n",
    "        print(guess, \"was the wrong answer.\")\n",
    "        \n",
    "    if guess < guessed_number:\n",
    "        print(\"Your guess is lower than the number. Guess again!\")\n",
    "    else:\n",
    "        print(\"Your guess is higher than the number. Guess again!\")\n",
    "        \n",
    "    guess = int(input(\"Guess the NUMBER!: \"))\n",
    "        \n",
    "\n"
   ]
  }
 ],
 "metadata": {
  "kernelspec": {
   "display_name": "Python 3",
   "language": "python",
   "name": "python3"
  },
  "language_info": {
   "codemirror_mode": {
    "name": "ipython",
    "version": 3
   },
   "file_extension": ".py",
   "mimetype": "text/x-python",
   "name": "python",
   "nbconvert_exporter": "python",
   "pygments_lexer": "ipython3",
   "version": "3.10.2"
  }
 },
 "nbformat": 4,
 "nbformat_minor": 2
}
