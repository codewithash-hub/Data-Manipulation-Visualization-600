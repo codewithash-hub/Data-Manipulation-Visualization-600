{
 "cells": [
  {
   "cell_type": "code",
   "execution_count": 1,
   "metadata": {},
   "outputs": [],
   "source": [
    "import numpy as np"
   ]
  },
  {
   "cell_type": "code",
   "execution_count": 24,
   "metadata": {},
   "outputs": [],
   "source": [
    "rng = np.random.default_rng(seed=1701) # seed for reproducibility\n",
    "\n",
    "x1 = rng.integers(10, size=6) # 1D array\n",
    "x2 = rng.integers(10, size=(3, 4)) # 2D array\n",
    "x3 = rng.integers(10, size=(3, 4, 5)) # 3D array\n"
   ]
  },
  {
   "cell_type": "code",
   "execution_count": 25,
   "metadata": {},
   "outputs": [
    {
     "name": "stdout",
     "output_type": "stream",
     "text": [
      "X1:  [9 4 0 3 8 6]\n",
      "X2:  [[3 1 3 7]\n",
      " [4 0 2 3]\n",
      " [0 0 6 9]]\n",
      "X3:  [[[4 3 5 5 0]\n",
      "  [8 3 5 2 2]\n",
      "  [1 8 8 5 3]\n",
      "  [0 0 8 5 8]]\n",
      "\n",
      " [[5 1 6 2 3]\n",
      "  [1 2 5 6 2]\n",
      "  [5 2 7 9 3]\n",
      "  [5 6 0 2 0]]\n",
      "\n",
      " [[2 9 4 3 9]\n",
      "  [9 2 2 4 0]\n",
      "  [0 3 0 0 2]\n",
      "  [3 2 7 4 7]]]\n"
     ]
    }
   ],
   "source": [
    "print(\"X1: \", x1)\n",
    "print(\"X2: \", x2)\n",
    "print(\"X3: \", x3)"
   ]
  },
  {
   "cell_type": "code",
   "execution_count": 26,
   "metadata": {},
   "outputs": [
    {
     "name": "stdout",
     "output_type": "stream",
     "text": [
      "3\n",
      "60\n",
      "(3, 4, 5)\n",
      "2\n"
     ]
    }
   ],
   "source": [
    "print(x3.ndim)\n",
    "print(x3.size)\n",
    "print(x3.shape)\n",
    "print(x2.ndim)"
   ]
  }
 ],
 "metadata": {
  "kernelspec": {
   "display_name": "Python 3",
   "language": "python",
   "name": "python3"
  },
  "language_info": {
   "codemirror_mode": {
    "name": "ipython",
    "version": 3
   },
   "file_extension": ".py",
   "mimetype": "text/x-python",
   "name": "python",
   "nbconvert_exporter": "python",
   "pygments_lexer": "ipython3",
   "version": "3.12.3"
  }
 },
 "nbformat": 4,
 "nbformat_minor": 2
}
