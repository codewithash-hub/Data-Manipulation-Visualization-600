{
 "cells": [
  {
   "cell_type": "code",
   "execution_count": 1,
   "metadata": {},
   "outputs": [],
   "source": [
    "import numpy as np"
   ]
  },
  {
   "cell_type": "markdown",
   "metadata": {},
   "source": [
    "# Rules of Broadcasting\n",
    "\n",
    "Rule 1: \n",
    "If the two arrays differ in their number of dimensions, the shape of the one with\n",
    "fewer dimensions is padded with ones on its leading (left) side.\n",
    "\n",
    "Rule 2: \n",
    "If the shape of the two arrays does not match in any dimension, the array with\n",
    "shape equal to 1 in that dimension is stretched to match the other shape.\n",
    "\n",
    "Rule 3:\n",
    "If in any dimension the sizes disagree and neither is equal to 1, an error is raised."
   ]
  },
  {
   "cell_type": "markdown",
   "metadata": {},
   "source": [
    "# Broadcasting Example 1\n",
    "\n",
    "Suppose we want to add a two-dimensional array to a one-dimensional array:"
   ]
  },
  {
   "cell_type": "code",
   "execution_count": 2,
   "metadata": {},
   "outputs": [],
   "source": [
    "M = np.ones((2, 3))\n",
    "a = np.arange(3)"
   ]
  },
  {
   "cell_type": "markdown",
   "metadata": {},
   "source": [
    "Let’s consider an operation on these two arrays, which have the following shapes:\n",
    "\n",
    "• M.shape is (2, 3)\n",
    "\n",
    "• a.shape is (3,)\n",
    "\n",
    "We see by rule 1 that the array a has fewer dimensions, so we pad it on the left with\n",
    "ones:\n",
    "\n",
    "• M.shape remains (2, 3)\n",
    "\n",
    "• a.shape becomes (1, 3)\n",
    "\n",
    "By rule 2, we now see that the first dimension disagrees, so we stretch this dimension\n",
    "to match:\n",
    "\n",
    "• M.shape remains (2, 3)\n",
    "\n",
    "• a.shape becomes (2, 3)\n",
    "\n",
    "The shapes now match, and we see that the final shape will be (2, 3):"
   ]
  },
  {
   "cell_type": "code",
   "execution_count": 3,
   "metadata": {},
   "outputs": [
    {
     "data": {
      "text/plain": [
       "array([[1., 2., 3.],\n",
       "       [1., 2., 3.]])"
      ]
     },
     "execution_count": 3,
     "metadata": {},
     "output_type": "execute_result"
    }
   ],
   "source": [
    "M + a"
   ]
  }
 ],
 "metadata": {
  "kernelspec": {
   "display_name": "Python 3",
   "language": "python",
   "name": "python3"
  },
  "language_info": {
   "codemirror_mode": {
    "name": "ipython",
    "version": 3
   },
   "file_extension": ".py",
   "mimetype": "text/x-python",
   "name": "python",
   "nbconvert_exporter": "python",
   "pygments_lexer": "ipython3",
   "version": "3.12.3"
  }
 },
 "nbformat": 4,
 "nbformat_minor": 2
}
