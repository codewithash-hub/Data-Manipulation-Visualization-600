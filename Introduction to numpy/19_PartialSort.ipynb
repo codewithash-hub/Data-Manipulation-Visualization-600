{
 "cells": [
  {
   "cell_type": "code",
   "execution_count": 2,
   "metadata": {},
   "outputs": [],
   "source": [
    "import numpy as np # type: ignore"
   ]
  },
  {
   "cell_type": "markdown",
   "metadata": {},
   "source": [
    "Sometimes we’re not interested in sorting the entire array, but simply want to find the\n",
    "k smallest values in the array. NumPy enables this with the np.partition function.\n",
    "np.partition takes an array and a number k; the result is a new array with the smallest\n",
    "k values to the left of the partition and the remaining values to the right:\n",
    "\n",
    "simple english: returns values less than number k on the left and the remaining on the right."
   ]
  },
  {
   "cell_type": "code",
   "execution_count": 6,
   "metadata": {},
   "outputs": [
    {
     "data": {
      "text/plain": [
       "array([2, 1, 3, 4, 6, 5, 7])"
      ]
     },
     "execution_count": 6,
     "metadata": {},
     "output_type": "execute_result"
    }
   ],
   "source": [
    "x = np.array([7, 2, 3, 1, 6, 5, 4])\n",
    "np.partition(x, 3)"
   ]
  },
  {
   "cell_type": "code",
   "execution_count": 9,
   "metadata": {},
   "outputs": [
    {
     "name": "stdout",
     "output_type": "stream",
     "text": [
      "[[0 7 6 4 4 8]\n",
      " [0 6 2 0 5 9]\n",
      " [7 7 7 7 5 1]\n",
      " [8 4 5 3 1 9]]\n"
     ]
    }
   ],
   "source": [
    "rng = np.random.default_rng(seed=42)\n",
    "y = rng.integers(0, 10, (4, 6))\n",
    "print(y)"
   ]
  },
  {
   "cell_type": "markdown",
   "metadata": {},
   "source": [
    "Similarly to sorting, we can partition along an arbitrary axis of a multidimensional\n",
    "array:"
   ]
  },
  {
   "cell_type": "code",
   "execution_count": 22,
   "metadata": {},
   "outputs": [
    {
     "name": "stdout",
     "output_type": "stream",
     "text": [
      "sort along each row\n",
      " [[0 4 4 7 6 8]\n",
      " [0 0 2 6 5 9]\n",
      " [1 5 7 7 7 7]\n",
      " [1 3 4 5 8 9]]\n",
      "\n",
      "sort along each column\n",
      " [[0 4 2 0 1 1]\n",
      " [0 6 5 3 4 8]\n",
      " [7 7 6 4 5 9]\n",
      " [8 7 7 7 5 9]]\n"
     ]
    }
   ],
   "source": [
    "print(\"sort along each row\\n\", np.partition(y, 2, axis=1))\n",
    "print()\n",
    "print(\"sort along each column\\n\", np.partition(y, 2, axis=0))"
   ]
  },
  {
   "cell_type": "markdown",
   "metadata": {},
   "source": [
    "Finally, just as there is an np.argsort function that computes indices of the sort,\n",
    "there is an np.argpartition function that computes indices of the partition. We’ll see\n",
    "both of these in action in the following section."
   ]
  },
  {
   "cell_type": "code",
   "execution_count": 23,
   "metadata": {},
   "outputs": [
    {
     "name": "stdout",
     "output_type": "stream",
     "text": [
      "sort along each row\n",
      " [[0 3 4 1 2 5]\n",
      " [0 3 2 1 4 5]\n",
      " [5 4 2 3 1 0]\n",
      " [4 3 1 2 0 5]]\n",
      "\n",
      "sort along each column\n",
      " [[0 3 1 1 3 2]\n",
      " [1 1 3 3 0 0]\n",
      " [2 2 0 0 2 1]\n",
      " [3 0 2 2 1 3]]\n"
     ]
    }
   ],
   "source": [
    "print(\"sort along each row\\n\", np.argpartition(y, 2, axis=1))\n",
    "print()\n",
    "print(\"sort along each column\\n\", np.argpartition(y, 2, axis=0))"
   ]
  }
 ],
 "metadata": {
  "kernelspec": {
   "display_name": "Python 3",
   "language": "python",
   "name": "python3"
  },
  "language_info": {
   "codemirror_mode": {
    "name": "ipython",
    "version": 3
   },
   "file_extension": ".py",
   "mimetype": "text/x-python",
   "name": "python",
   "nbconvert_exporter": "python",
   "pygments_lexer": "ipython3",
   "version": "3.12.3"
  }
 },
 "nbformat": 4,
 "nbformat_minor": 2
}
